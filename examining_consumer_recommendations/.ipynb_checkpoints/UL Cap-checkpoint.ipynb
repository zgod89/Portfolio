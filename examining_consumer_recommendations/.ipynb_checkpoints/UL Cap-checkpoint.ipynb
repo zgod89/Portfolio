{
 "cells": [
  {
   "cell_type": "markdown",
   "metadata": {},
   "source": [
    "## Imports"
   ]
  },
  {
   "cell_type": "code",
   "execution_count": 2,
   "metadata": {},
   "outputs": [],
   "source": [
    "# sklearn analytics\n",
    "import seaborn as sns\n",
    "import matplotlib.pyplot as plt\n",
    "%matplotlib inline\n",
    "import matplotlib as mpl\n",
    "import matplotlib.cm as cm\n",
    "from sklearn import metrics\n",
    "from sklearn.metrics import classification_report\n",
    "from sklearn.metrics import roc_auc_score\n",
    "from sklearn.metrics import roc_curve\n",
    "from sklearn.metrics import precision_recall_curve\n",
    "from sklearn.metrics import f1_score\n",
    "from sklearn.metrics import precision_score, recall_score\n",
    "from sklearn.metrics import confusion_matrix\n",
    "from sklearn.model_selection import cross_val_predict\n",
    "from sklearn.model_selection import train_test_split\n",
    "from sklearn.model_selection import cross_val_score\n",
    "from sklearn.model_selection import GridSearchCV\n",
    "\n",
    "# Models\n",
    "from sklearn import cluster\n",
    "from sklearn.cluster import KMeans\n",
    "from sklearn.cluster import MiniBatchKMeans\n",
    "from sklearn.cluster import MeanShift, estimate_bandwidth\n",
    "from sklearn.cluster import SpectralClustering\n",
    "from sklearn.manifold import TSNE\n",
    "from sklearn.svm import LinearSVC\n",
    "from sklearn.naive_bayes import GaussianNB\n",
    "from sklearn.ensemble import RandomForestClassifier\n",
    "from sklearn.linear_model import LogisticRegression\n",
    "from sklearn.cluster import Birch\n",
    "\n",
    "# Text Preprocessing\n",
    "from sklearn.feature_extraction import text\n",
    "from sklearn.feature_extraction.text import TfidfVectorizer, CountVectorizer,\\\n",
    "    TfidfTransformer\n",
    "from sklearn.decomposition import TruncatedSVD\n",
    "from sklearn.preprocessing import Normalizer\n",
    "from sklearn.pipeline import make_pipeline\n",
    "\n",
    "\n",
    "# General\n",
    "import warnings\n",
    "import numpy as np\n",
    "import pandas as pd\n",
    "import nltk\n",
    "import random\n",
    "import os\n",
    "import re\n",
    "import string\n",
    "import statsmodels.api as sm\n",
    "from os import path\n",
    "from PIL import Image\n",
    "from time import time\n",
    "\n",
    "\n",
    "# NLP\n",
    "from nltk import sent_tokenize, word_tokenize\n",
    "from nltk.util import ngrams\n",
    "from nltk.stem import PorterStemmer\n",
    "from nltk.corpus import stopwords\n",
    "#nltk.download('stopwords')\n",
    "stopwords = stopwords.words('english')\n",
    "from nltk.tokenize import RegexpTokenizer\n",
    "from wordcloud import WordCloud, STOPWORDS\n",
    "from subprocess import check_output\n",
    "from collections import Counter\n",
    "import spacy\n",
    "nlp = spacy.load('en')\n",
    "\n",
    "# Set Plot Theme\n",
    "sns.set_palette([\n",
    "    \"#30a2da\",\n",
    "    \"#fc4f30\",\n",
    "    \"#e5ae38\",\n",
    "    \"#6d904f\",\n",
    "    \"#551A8B\",\n",
    "])\n",
    "\n",
    "# Warnings\n",
    "warnings.filterwarnings('ignore')"
   ]
  },
  {
   "cell_type": "markdown",
   "metadata": {},
   "source": [
    "## Data Cleaning"
   ]
  },
  {
   "cell_type": "code",
   "execution_count": 3,
   "metadata": {},
   "outputs": [
    {
     "name": "stdout",
     "output_type": "stream",
     "text": [
      "Missing Values: 2966\n",
      "Dataframe Dimension: 22628 Rows, 10 Columns\n"
     ]
    }
   ],
   "source": [
    "# Read and Peak at Data\n",
    "df = pd.read_csv(\"Womens Clothing E-Commerce Reviews.csv\")\n",
    "df.drop(df.columns[0], inplace=True, axis=1)\n",
    "\n",
    "# Delete missing observations for following variables\n",
    "for x in [\"Division Name\", \"Department Name\", \"Class Name\", \"Review Text\"]:\n",
    "    df = df[df[x].notnull()]\n",
    "\n",
    "# Extracting Missing Count and Unique Count by Column\n",
    "unique_count = []\n",
    "for x in df.columns:\n",
    "    unique_count.append([x, len(df[x].unique()), df[x].isnull().sum()])\n",
    "\n",
    "# Missing Values\n",
    "print(\"Missing Values: {}\".format(df.isnull().sum().sum()))\n",
    "\n",
    "# Data Dimensions\n",
    "print(\"Dataframe Dimension: {} Rows, {} Columns\".format(*df.shape))\n",
    "\n",
    "# Create New Variables:\n",
    "# Word Length\n",
    "df[\"Word Count\"] = df['Review Text'].str.split().apply(len)\n",
    "# Character Length\n",
    "df[\"Character Count\"] = df['Review Text'].apply(len)"
   ]
  },
  {
   "cell_type": "code",
   "execution_count": 4,
   "metadata": {},
   "outputs": [
    {
     "data": {
      "text/html": [
       "<div>\n",
       "<style scoped>\n",
       "    .dataframe tbody tr th:only-of-type {\n",
       "        vertical-align: middle;\n",
       "    }\n",
       "\n",
       "    .dataframe tbody tr th {\n",
       "        vertical-align: top;\n",
       "    }\n",
       "\n",
       "    .dataframe thead th {\n",
       "        text-align: right;\n",
       "    }\n",
       "</style>\n",
       "<table border=\"1\" class=\"dataframe\">\n",
       "  <thead>\n",
       "    <tr style=\"text-align: right;\">\n",
       "      <th></th>\n",
       "      <th>Clothing ID</th>\n",
       "      <th>Age</th>\n",
       "      <th>Title</th>\n",
       "      <th>Review Text</th>\n",
       "      <th>Rating</th>\n",
       "      <th>Recommended IND</th>\n",
       "      <th>Positive Feedback Count</th>\n",
       "      <th>Division Name</th>\n",
       "      <th>Department Name</th>\n",
       "      <th>Class Name</th>\n",
       "      <th>Word Count</th>\n",
       "      <th>Character Count</th>\n",
       "      <th>Filtered Review Text</th>\n",
       "    </tr>\n",
       "  </thead>\n",
       "  <tbody>\n",
       "    <tr>\n",
       "      <th>0</th>\n",
       "      <td>767</td>\n",
       "      <td>33</td>\n",
       "      <td>NaN</td>\n",
       "      <td>Absolutely wonderful - silky and sexy and comf...</td>\n",
       "      <td>4</td>\n",
       "      <td>1</td>\n",
       "      <td>0</td>\n",
       "      <td>Initmates</td>\n",
       "      <td>Intimate</td>\n",
       "      <td>Intimates</td>\n",
       "      <td>8</td>\n",
       "      <td>53</td>\n",
       "      <td>absolutely wonderful silky sexy comfortable</td>\n",
       "    </tr>\n",
       "    <tr>\n",
       "      <th>1</th>\n",
       "      <td>1080</td>\n",
       "      <td>34</td>\n",
       "      <td>NaN</td>\n",
       "      <td>Love this dress!  it's sooo pretty.  i happene...</td>\n",
       "      <td>5</td>\n",
       "      <td>1</td>\n",
       "      <td>4</td>\n",
       "      <td>General</td>\n",
       "      <td>Dresses</td>\n",
       "      <td>Dresses</td>\n",
       "      <td>62</td>\n",
       "      <td>303</td>\n",
       "      <td>love dress sooo pretty happened store im glad ...</td>\n",
       "    </tr>\n",
       "    <tr>\n",
       "      <th>2</th>\n",
       "      <td>1077</td>\n",
       "      <td>60</td>\n",
       "      <td>Some major design flaws</td>\n",
       "      <td>I had such high hopes for this dress and reall...</td>\n",
       "      <td>3</td>\n",
       "      <td>0</td>\n",
       "      <td>0</td>\n",
       "      <td>General</td>\n",
       "      <td>Dresses</td>\n",
       "      <td>Dresses</td>\n",
       "      <td>98</td>\n",
       "      <td>500</td>\n",
       "      <td>high hopes dress really wanted work initially ...</td>\n",
       "    </tr>\n",
       "    <tr>\n",
       "      <th>3</th>\n",
       "      <td>1049</td>\n",
       "      <td>50</td>\n",
       "      <td>My favorite buy!</td>\n",
       "      <td>I love, love, love this jumpsuit. it's fun, fl...</td>\n",
       "      <td>5</td>\n",
       "      <td>1</td>\n",
       "      <td>0</td>\n",
       "      <td>General Petite</td>\n",
       "      <td>Bottoms</td>\n",
       "      <td>Pants</td>\n",
       "      <td>22</td>\n",
       "      <td>124</td>\n",
       "      <td>love love love jumpsuit fun flirty fabulous ti...</td>\n",
       "    </tr>\n",
       "    <tr>\n",
       "      <th>4</th>\n",
       "      <td>847</td>\n",
       "      <td>47</td>\n",
       "      <td>Flattering shirt</td>\n",
       "      <td>This shirt is very flattering to all due to th...</td>\n",
       "      <td>5</td>\n",
       "      <td>1</td>\n",
       "      <td>6</td>\n",
       "      <td>General</td>\n",
       "      <td>Tops</td>\n",
       "      <td>Blouses</td>\n",
       "      <td>36</td>\n",
       "      <td>192</td>\n",
       "      <td>shirt flattering adjustable tie perfect length...</td>\n",
       "    </tr>\n",
       "  </tbody>\n",
       "</table>\n",
       "</div>"
      ],
      "text/plain": [
       "   Clothing ID  Age                    Title  \\\n",
       "0          767   33                      NaN   \n",
       "1         1080   34                      NaN   \n",
       "2         1077   60  Some major design flaws   \n",
       "3         1049   50         My favorite buy!   \n",
       "4          847   47         Flattering shirt   \n",
       "\n",
       "                                         Review Text  Rating  Recommended IND  \\\n",
       "0  Absolutely wonderful - silky and sexy and comf...       4                1   \n",
       "1  Love this dress!  it's sooo pretty.  i happene...       5                1   \n",
       "2  I had such high hopes for this dress and reall...       3                0   \n",
       "3  I love, love, love this jumpsuit. it's fun, fl...       5                1   \n",
       "4  This shirt is very flattering to all due to th...       5                1   \n",
       "\n",
       "   Positive Feedback Count   Division Name Department Name Class Name  \\\n",
       "0                        0       Initmates        Intimate  Intimates   \n",
       "1                        4         General         Dresses    Dresses   \n",
       "2                        0         General         Dresses    Dresses   \n",
       "3                        0  General Petite         Bottoms      Pants   \n",
       "4                        6         General            Tops    Blouses   \n",
       "\n",
       "   Word Count  Character Count  \\\n",
       "0           8               53   \n",
       "1          62              303   \n",
       "2          98              500   \n",
       "3          22              124   \n",
       "4          36              192   \n",
       "\n",
       "                                Filtered Review Text  \n",
       "0        absolutely wonderful silky sexy comfortable  \n",
       "1  love dress sooo pretty happened store im glad ...  \n",
       "2  high hopes dress really wanted work initially ...  \n",
       "3  love love love jumpsuit fun flirty fabulous ti...  \n",
       "4  shirt flattering adjustable tie perfect length...  "
      ]
     },
     "execution_count": 4,
     "metadata": {},
     "output_type": "execute_result"
    }
   ],
   "source": [
    "# Importing SKLearn's list of stopwords and \n",
    "# then appending with my own words\n",
    "stop = text.ENGLISH_STOP_WORDS\n",
    "\n",
    "# Basic text cleaning function\n",
    "def remove_noise(text):\n",
    "\n",
    "    # Make lowercase\n",
    "    text = text.apply(lambda x: \" \".join(x.lower() for x in x.split()))\n",
    "\n",
    "    # Remove whitespaces\n",
    "    text = text.apply(lambda x: \" \".join(x.strip() for x in x.split()))\n",
    "\n",
    "    # Remove special characters\n",
    "    text = text.apply(lambda x: \"\".join(\n",
    "        [\" \" if ord(i) < 32 or ord(i) > 126 else i for i in x]))\n",
    "\n",
    "    # Remove punctuation\n",
    "    text = text.str.replace('[^\\w\\s]', '')\n",
    "\n",
    "    # Remove numbers\n",
    "    text = text.str.replace('\\d+', '')\n",
    "\n",
    "    # Remove Stopwords\n",
    "    text = text.apply(lambda x: ' '.join(\n",
    "        [word for word in x.split() if word not in (stop)]))\n",
    "\n",
    "    # Convert to string\n",
    "    text = text.astype(str)\n",
    "\n",
    "    return text\n",
    "\n",
    "\n",
    "# Applying noise removal function to data\n",
    "df['Filtered Review Text'] = remove_noise(df['Review Text'])\n",
    "df.head(5)"
   ]
  },
  {
   "cell_type": "markdown",
   "metadata": {},
   "source": [
    "## EDA"
   ]
  },
  {
   "cell_type": "markdown",
   "metadata": {},
   "source": [
    "I'm interested in investigating the Recommended binary variable."
   ]
  },
  {
   "cell_type": "code",
   "execution_count": 5,
   "metadata": {},
   "outputs": [
    {
     "data": {
      "image/png": "[encoded data removed]",
      "text/plain": [
       "<Figure size 1080x216 with 5 Axes>"
      ]
     },
     "metadata": {
      "needs_background": "light"
     },
     "output_type": "display_data"
    }
   ],
   "source": [
    "# Looking at if a product was recommended based on the rating.\n",
    "g = sns.FacetGrid(data=df, col='Rating', col_wrap=5)\n",
    "g.map(plt.hist, 'Recommended IND', bins=2)\n",
    "plt.subplots_adjust(top=.8)\n",
    "g.fig.suptitle('Recommendation V Rating')\n",
    "#plt.tight_layout()\n",
    "plt.savefig(\"Recommendation V Rating.png\", dpi =300)\n",
    "plt.show()"
   ]
  },
  {
   "cell_type": "markdown",
   "metadata": {},
   "source": [
    "For 'Recommended IND', 1 represents if the customer recommended the product, 0 is not recommended. It would seem with a rating of 1 and 2, most customers do not recommend the product. At a rating of 3 it appears customers are somewhat neutral, and at ratings above 4 customers predominantly recommend the product. "
   ]
  },
  {
   "cell_type": "code",
   "execution_count": null,
   "metadata": {},
   "outputs": [
    {
     "data": {
      "image/png": "[encoded data removed]",
      "text/plain": [
       "<Figure size 648x360 with 1 Axes>"
      ]
     },
     "metadata": {
      "needs_background": "light"
     },
     "output_type": "display_data"
    }
   ],
   "source": [
    "# Exploring Recomendation and age distribution.\n",
    "colors = color={0: '#30a2da',\n",
    "                1: '#fc4f30'}\n",
    "f, ax = plt.subplots(figsize=(9, 5))\n",
    "df.groupby(['Recommended IND', pd.cut(df['Age'], np.arange(0, 100, 10))])\\\n",
    "    .size()\\\n",
    "    .unstack(0)\\\n",
    "    .plot.bar(stacked=True, ax=ax, color=colors.values())\n",
    "#plt.subplots_adjust(top=.8)\n",
    "plt.suptitle('Recommendation and Age')\n",
    "#plt.tight_layout()\n",
    "plt.savefig(\"Recommendation and Age.png\", dpi =300)\n",
    "#plt.tight_layout()\n",
    "plt.show()"
   ]
  },
  {
   "cell_type": "code",
   "execution_count": null,
   "metadata": {
    "scrolled": true
   },
   "outputs": [
    {
     "data": {
      "image/png": "[encoded data removed]",
      "text/plain": [
       "<Figure size 504x288 with 1 Axes>"
      ]
     },
     "metadata": {
      "needs_background": "light"
     },
     "output_type": "display_data"
    }
   ],
   "source": [
    "# Exploring Review counts per department\n",
    "z = df.groupby(by=['Department Name'], as_index=False).count(\n",
    ").sort_values(by='Class Name', ascending=False)\n",
    "\n",
    "plt.figure(figsize=(7, 4))\n",
    "sns.set_style(\"whitegrid\")\n",
    "ax = sns.barplot(x=z['Department Name'], y=z['Class Name'], data=z)\n",
    "plt.xlabel(\"\\nDepartment\")\n",
    "plt.ylabel(\"Count\")\n",
    "plt.title(\"Counts By Department\\n\")\n",
    "plt.savefig(\"Counts By Department.png\", dpi =300)\n",
    "plt.show()"
   ]
  },
  {
   "cell_type": "markdown",
   "metadata": {},
   "source": [
    "Most of the reviews pertain to the Tops and Dresses departments."
   ]
  },
  {
   "cell_type": "code",
   "execution_count": null,
   "metadata": {},
   "outputs": [
    {
     "data": {
      "image/png": "[encoded data removed]",
      "text/plain": [
       "<Figure size 720x576 with 1 Axes>"
      ]
     },
     "metadata": {},
     "output_type": "display_data"
    }
   ],
   "source": [
    "# Class Name Counts\n",
    "plt.subplots(figsize=(10, 8))\n",
    "sns.countplot(y=\"Class Name\", data=df,\n",
    "              order=df[\"Class Name\"].value_counts().index)\n",
    "plt.title(\"Frequency Count of Class Name\")\n",
    "plt.xlabel(\"Count\")\n",
    "plt.tight_layout()\n",
    "plt.savefig(\"Frequency Count of Class Name.png\", dpi =300)\n",
    "plt.show()"
   ]
  },
  {
   "cell_type": "markdown",
   "metadata": {},
   "source": [
    "We see that Dresses, Knits, and Blouses are the 3 most reviewed items, respectively."
   ]
  },
  {
   "cell_type": "code",
   "execution_count": null,
   "metadata": {},
   "outputs": [
    {
     "data": {
      "image/png": "[encoded data removed]",
      "text/plain": [
       "<Figure size 648x288 with 2 Axes>"
      ]
     },
     "metadata": {},
     "output_type": "display_data"
    }
   ],
   "source": [
    "# Distribution of Rating, Recommended IND, and Label:\n",
    "cat_dtypes = [\"Rating\", \"Recommended IND\"]\n",
    "increment = 0\n",
    "f, axes = plt.subplots(1, len(cat_dtypes), figsize=(9, 4), sharex=False)\n",
    "\n",
    "for i in range(len(cat_dtypes)):\n",
    "    sns.countplot(x=cat_dtypes[increment],\n",
    "                  data=df,\n",
    "                  order=df[cat_dtypes[increment\n",
    "                                      ]].value_counts().index, ax=axes[i])\n",
    "    axes[i].set_title(\n",
    "        \"Frequency Distribution for\\n{}\".format(cat_dtypes[increment]))\n",
    "    axes[i].set_ylabel(\"Occurrence\")\n",
    "    axes[i].set_xlabel(\"{}\".format(cat_dtypes[increment]))\n",
    "    increment += 1\n",
    "axes[1].set_ylabel(\"\")\n",
    "plt.tight_layout()\n",
    "plt.savefig(\"Frequency Distributions.png\", dpi =300)\n",
    "plt.show()"
   ]
  },
  {
   "cell_type": "markdown",
   "metadata": {},
   "source": [
    "### Houston, we have a problem \n",
    "\n",
    "We see that the data is unevenly distributed. Overall the products are well rated, and are often recommended.\n",
    "\n",
    "Later on I intend to perform machine learning on the data to determine whether review content is predictive of recommendation. As such, the class imbalance of the \"Recommended IND\" variable will pose a problem. For now, I won't normalize the data because I don't want to diminish the text corpus."
   ]
  },
  {
   "cell_type": "code",
   "execution_count": null,
   "metadata": {},
   "outputs": [],
   "source": [
    "temp = (df.groupby('Clothing ID')[[\"Rating\", \"Recommended IND\", \"Age\"]]\n",
    "        .aggregate(['count', 'mean']))\n",
    "temp.columns = [\"Count\", \"Rating Mean\", \"Recommended IND Count\",\n",
    "                \"Recommended Mean\", \"Age Count\", \"Age Mean\"]"
   ]
  },
  {
   "cell_type": "code",
   "execution_count": null,
   "metadata": {},
   "outputs": [
    {
     "data": {
      "image/png": "[encoded data removed]",
      "text/plain": [
       "<Figure size 432x432 with 3 Axes>"
      ]
     },
     "metadata": {},
     "output_type": "display_data"
    }
   ],
   "source": [
    "#f, ax = plt.subplots(figsize=(10,10))\n",
    "g = sns.jointplot(x=\"Recommended IND Count\", y='Rating Mean', data=temp,\n",
    "                  kind='reg', color='b')\n",
    "\n",
    "plt.subplots_adjust(top=0.999)\n",
    "g.fig.suptitle(\n",
    "    \"Rating Mean and # Recommended\\nGrouped by Clothing ID\",\n",
    "va='baseline')\n",
    "plt.tight_layout()\n",
    "plt.show()"
   ]
  },
  {
   "cell_type": "markdown",
   "metadata": {},
   "source": [
    "Lastly we see that the higher the mean rating, the more recommendations. While not exactly a grand revelation, we can also see that there are people who strongly liked the product, but nevertheless did not recommend it. \n",
    "\n",
    "## Cluster Analysis\n",
    "\n",
    "I'll begin with some unsupervised feature exploration to determine if we need to use a supervised learning approach when we model later on."
   ]
  },
  {
   "cell_type": "markdown",
   "metadata": {},
   "source": [
    "### tfidf Vectorization \n",
    "\n",
    "Extracting features from the training dataset using a sparse vectorizer. "
   ]
  },
  {
   "cell_type": "code",
   "execution_count": null,
   "metadata": {
    "scrolled": true
   },
   "outputs": [
    {
     "name": "stdout",
     "output_type": "stream",
     "text": [
      "done in 0.503497s\n",
      "n_samples: 16971, n_features: 7188\n",
      "\n"
     ]
    }
   ],
   "source": [
    "X = df.loc[:, 'Filtered Review Text']\n",
    "y = df.loc[:, 'Recommended IND']\n",
    "X_train, X_test, Y_train, Y_test = train_test_split(\n",
    "    X, y, test_size=0.25, random_state=42)\n",
    "\n",
    "t0 = time()\n",
    "vectorizer = TfidfVectorizer(max_df=0.5,\n",
    "                             min_df=2, stop_words='english')\n",
    "\n",
    "X_train_tfidf = vectorizer.fit_transform(X_train)\n",
    "X_test_tfidf = vectorizer.fit_transform(X_test)\n",
    "print(\"done in %fs\" % (time() - t0))\n",
    "print(\"n_samples: %d, n_features: %d\" % X_train_tfidf.shape)\n",
    "print()"
   ]
  },
  {
   "cell_type": "markdown",
   "metadata": {},
   "source": [
    "### Truncated SVD and LSA\n",
    "I needed to reduce the dimensionality of my sparse array, therefore I utilized truncated SVD by way of latent semantic analysis. Vectorized results are normalized, which makes KMeans behave as spherical k-means for better results. Since LSA/SVD results are not normalized, we have to redo the normalization."
   ]
  },
  {
   "cell_type": "code",
   "execution_count": null,
   "metadata": {},
   "outputs": [
    {
     "name": "stdout",
     "output_type": "stream",
     "text": [
      "Performing dimensionality reduction using LSA\n",
      "done in 9.206998s\n",
      "Explained variance of the SVD step: 68%\n",
      "\n"
     ]
    }
   ],
   "source": [
    "print(\"Performing dimensionality reduction using LSA\")\n",
    "t0 = time()\n",
    "\n",
    "svd = TruncatedSVD(600)\n",
    "normalizer = Normalizer(copy=False)\n",
    "lsa = make_pipeline(svd, normalizer)\n",
    "\n",
    "X_train_lsa = lsa.fit_transform(X_train_tfidf)\n",
    "X_test_lsa = lsa.fit_transform(X_test_tfidf)\n",
    "\n",
    "print(\"done in %fs\" % (time() - t0))\n",
    "\n",
    "explained_variance = svd.explained_variance_ratio_.sum()\n",
    "print(\"Explained variance of the SVD step: {}%\".format(\n",
    "    int(explained_variance * 100)))\n",
    "\n",
    "print()"
   ]
  },
  {
   "cell_type": "markdown",
   "metadata": {},
   "source": [
    "Conducted multiple iterations to find # of components. "
   ]
  },
  {
   "cell_type": "markdown",
   "metadata": {},
   "source": [
    "### k-means clustering\n",
    "I want to try to cluster the data into distinct groups for each binary outcome."
   ]
  },
  {
   "cell_type": "code",
   "execution_count": null,
   "metadata": {},
   "outputs": [
    {
     "name": "stdout",
     "output_type": "stream",
     "text": [
      "Clustering sparse data with KMeans(algorithm='auto', copy_x=True, init='k-means++', max_iter=100,\n",
      "    n_clusters=2, n_init=10, n_jobs=None, precompute_distances='auto',\n",
      "    random_state=42, tol=0.0001, verbose=0)\n",
      "done in 7.381s\n",
      "\n"
     ]
    }
   ],
   "source": [
    "# Since our target is boolean, we expect 2 clusters.\n",
    "km = KMeans(n_clusters=2, max_iter=100,\n",
    "            random_state=42)\n",
    "\n",
    "print(\"Clustering sparse data with %s\" % km)\n",
    "t0 = time()\n",
    "km.fit(X_train_lsa)\n",
    "print(\"done in %0.3fs\" % (time() - t0))\n",
    "print()"
   ]
  },
  {
   "cell_type": "code",
   "execution_count": null,
   "metadata": {},
   "outputs": [
    {
     "data": {
      "image/png": "[encoded data removed]",
      "text/plain": [
       "<Figure size 504x288 with 1 Axes>"
      ]
     },
     "metadata": {},
     "output_type": "display_data"
    },
    {
     "name": "stdout",
     "output_type": "stream",
     "text": [
      "\n",
      "Confusion Matrix:  \n",
      " Predicted      0     1    All\n",
      "True                         \n",
      "0           2360   700   3060\n",
      "1          10851  3060  13911\n",
      "All        13211  3760  16971\n",
      "\n",
      "                    Classification Report \n",
      "               precision    recall  f1-score   support\n",
      "\n",
      "           0       0.18      0.77      0.29      3060\n",
      "           1       0.81      0.22      0.35     13911\n",
      "\n",
      "   micro avg       0.32      0.32      0.32     16971\n",
      "   macro avg       0.50      0.50      0.32     16971\n",
      "weighted avg       0.70      0.32      0.34     16971\n",
      "\n"
     ]
    }
   ],
   "source": [
    "plt.figure(figsize=(7, 4))\n",
    "# Calculate predicted values.\n",
    "y_pred = km.fit_predict(X_train_lsa)\n",
    "\n",
    "# Calculate Error Type\n",
    "y_error = (y_pred*2)-Y_train\n",
    "\n",
    "#Define Error Colors\n",
    "LABEL_COLOR_MAP = {-1: '#FF752E',\n",
    "                   0:  '#ad00c8',\n",
    "                   1: '#4ae500', \n",
    "                   2: '#000dbf'\n",
    "                   }\n",
    "label_color = [LABEL_COLOR_MAP[i] for i in y_error]\n",
    "label_convert = {-1: 'FN',\n",
    "                 0: 'TN',\n",
    "                 1:'TP',\n",
    "                 2: 'FP'\n",
    "                 } \n",
    "# Plot the solution.\n",
    "plt.scatter(X_train_lsa[:, 0], X_train_lsa[:, 1],\n",
    "            marker='.', c=label_color) \n",
    "#Plot the error legend\n",
    "markers = [\n",
    "    plt.Line2D([0, 0], [0, 0], color=color,\n",
    "               marker='o', linestyle=''\n",
    "               ) for color in LABEL_COLOR_MAP.values()]\n",
    "plt.legend(markers, label_convert.values(), numpoints=1)\n",
    "plt.rcParams.update({'font.size': 12})\n",
    "plt.savefig(\"K-Means.png\", dpi =300)\n",
    "plt.show()\n",
    "\n",
    "# Check the solution against the data.\n",
    "cm = pd.crosstab(Y_train, y_pred, rownames=['True'], \n",
    "                 colnames=['Predicted'], margins=True)\n",
    "print(\"\\nConfusion Matrix:  \\n\", cm)\n",
    "print(\"\\n                    Classification Report \\n\",\n",
    "      classification_report(Y_train, y_pred))"
   ]
  },
  {
   "cell_type": "markdown",
   "metadata": {},
   "source": [
    "Looks like this model isn't doing very well. There are a lot of false positives using this algorithm.\n",
    "\n",
    "We can also see by the F1 score for 0 that we are very poorly predicting the \"Not Recommended\" outcome. There may be a better clustering algorithm for this data."
   ]
  },
  {
   "cell_type": "markdown",
   "metadata": {},
   "source": [
    "### MiniBatch K-Means:"
   ]
  },
  {
   "cell_type": "code",
   "execution_count": null,
   "metadata": {},
   "outputs": [
    {
     "data": {
      "image/png": "[encoded data removed]",
      "text/plain": [
       "<Figure size 504x288 with 1 Axes>"
      ]
     },
     "metadata": {},
     "output_type": "display_data"
    },
    {
     "name": "stdout",
     "output_type": "stream",
     "text": [
      "done in 1.522s\n",
      "Confusion Matrix:  \n",
      " Predicted     0     1    All\n",
      "True                        \n",
      "0          2253   807   3060\n",
      "1          6885  7026  13911\n",
      "All        9138  7833  16971\n",
      "\n",
      "                    Classification Report \n",
      "               precision    recall  f1-score   support\n",
      "\n",
      "           0       0.25      0.74      0.37      3060\n",
      "           1       0.90      0.51      0.65     13911\n",
      "\n",
      "   micro avg       0.55      0.55      0.55     16971\n",
      "   macro avg       0.57      0.62      0.51     16971\n",
      "weighted avg       0.78      0.55      0.60     16971\n",
      "\n"
     ]
    }
   ],
   "source": [
    "plt.figure(figsize=(7, 4))\n",
    "# Each batch will be made up of 200 data points.\n",
    "minibatchkmeans = MiniBatchKMeans(\n",
    "    init='random',\n",
    "    n_clusters=2,\n",
    "    batch_size=200)\n",
    "\n",
    "# Timing the execution.\n",
    "t0 = time()\n",
    "minibatchkmeans.fit(X_train_lsa)\n",
    "\n",
    "# Predictions\n",
    "predict_mini = minibatchkmeans.predict(X_train_lsa)\n",
    "\n",
    "# Error\n",
    "mini_error = (predict_mini*2)-Y_train\n",
    "\n",
    "# Error Color\n",
    "LABEL_COLOR_MAP = {-1: '#FF752E',\n",
    "                   0:  '#ad00c8',\n",
    "                   1: '#4ae500', \n",
    "                   2: '#000dbf'\n",
    "                   }\n",
    "label_color = [LABEL_COLOR_MAP[i] for i in mini_error]\n",
    "label_convert = {-1: 'FN',\n",
    "                 0: 'TN',\n",
    "                 1:'TP',\n",
    "                 2: 'FP'\n",
    "                 }  \n",
    "# Plot the solution.\n",
    "plt.scatter(X_train_lsa[:, 0], X_train_lsa[:, 1], \n",
    "            marker='.', c=label_color)\n",
    "# Plot the legend\n",
    "markers = [\n",
    "    plt.Line2D([0, 0], [0, 0], color=color,\n",
    "               marker='o', linestyle=''\n",
    "               ) for color in LABEL_COLOR_MAP.values()]\n",
    "plt.legend(markers, label_convert.values(), numpoints=1)\n",
    "plt.savefig(\"Mini-Batch K-Means.png\", dpi =300)\n",
    "plt.show()\n",
    "\n",
    "print(\"done in %0.3fs\" % (time() - t0))\n",
    "\n",
    "# Check the MiniBatch model against our earlier one.\n",
    "cm = pd.crosstab(Y_train, predict_mini, rownames=['True'], \n",
    "                 colnames=['Predicted'], margins=True)\n",
    "print(\"Confusion Matrix:  \\n\", cm)\n",
    "print(\"\\n                    Classification Report \\n\",\n",
    "      classification_report(Y_train, predict_mini))"
   ]
  },
  {
   "cell_type": "markdown",
   "metadata": {},
   "source": [
    "MiniBatch may be quicker, but it performs much worse on this data. \n",
    "\n",
    "### Birch"
   ]
  },
  {
   "cell_type": "code",
   "execution_count": null,
   "metadata": {},
   "outputs": [],
   "source": [
    "# Birch\n",
    "brc = Birch(branching_factor=50, n_clusters=2, threshold=0.5,\n",
    "compute_labels=True)\n",
    "\n",
    "# Timing the execution.\n",
    "t0 = time()\n",
    "brc.fit(X_train_lsa)\n",
    "\n",
    "# Predictions\n",
    "predict_birch = brc.predict(X_train_lsa)\n",
    "\n",
    "# Error\n",
    "mini_error = (predict_birch*2)-Y_train\n",
    "\n",
    "# Error Color\n",
    "LABEL_COLOR_MAP = {-1: '#FF752E',\n",
    "                   0:  '#ad00c8',\n",
    "                   1: '#4ae500', \n",
    "                   2: '#000dbf'\n",
    "                   }\n",
    "label_color = [LABEL_COLOR_MAP[i] for i in mini_error]\n",
    "label_convert = {-1: 'FN',\n",
    "                 0: 'TN',\n",
    "                 1:'TP',\n",
    "                 2: 'FP'\n",
    "                 }  \n",
    "# Plot the solution.\n",
    "plt.figure(figsize=(7, 4))\n",
    "plt.scatter(X_train_lsa[:, 0], X_train_lsa[:, 1], \n",
    "            marker='.', c=label_color)\n",
    "# Plot the legend\n",
    "markers = [\n",
    "    plt.Line2D([0, 0], [0, 0], color=color,\n",
    "               marker='o', linestyle=''\n",
    "               ) for color in LABEL_COLOR_MAP.values()]\n",
    "plt.legend(markers, label_convert.values(), numpoints=1, loc='upper left')\n",
    "plt.show()\n",
    "\n",
    "print(\"done in %0.3fs\" % (time() - t0))\n",
    "\n",
    "# Check the MiniBatch model against our earlier one.\n",
    "cm = pd.crosstab(Y_train, predict_birch, rownames=['True'], \n",
    "                 colnames=['Predicted'], margins=True)\n",
    "print(\"Confusion Matrix:  \\n\", cm)\n",
    "print(\"\\n                    Classification Report \\n\",\n",
    "      classification_report(Y_train, predict_birch))"
   ]
  },
  {
   "cell_type": "markdown",
   "metadata": {},
   "source": [
    "Birch also suffers from higher error rates.\n",
    "### Mean Shift"
   ]
  },
  {
   "cell_type": "code",
   "execution_count": null,
   "metadata": {},
   "outputs": [],
   "source": [
    "# Here we set the bandwidth. This function automatically derives a bandwidth\n",
    "# number based on an inspection of the distances among points in the data.\n",
    "bandwidth = estimate_bandwidth(X_train_lsa, quantile=0.2, n_samples=500)\n",
    "\n",
    "# Declare and fit the model.\n",
    "ms = MeanShift(bandwidth=bandwidth, bin_seeding=True)\n",
    "ms.fit(X_train_lsa)\n",
    "\n",
    "# Extract cluster assignments for each data point.\n",
    "labels = ms.labels_\n",
    "\n",
    "# Coordinates of the cluster centers.\n",
    "cluster_centers = ms.cluster_centers_\n",
    "\n",
    "# Count our clusters.\n",
    "n_clusters_ = len(np.unique(labels))\n",
    "\n",
    "print(\"Number of estimated clusters: {}\".format(n_clusters_))"
   ]
  },
  {
   "cell_type": "code",
   "execution_count": null,
   "metadata": {},
   "outputs": [],
   "source": [
    "plt.scatter(X_train_lsa[:, 0], X_train_lsa[:, 1], c=labels)\n",
    "plt.figure(figsize=(7, 4))\n",
    "plt.show()"
   ]
  },
  {
   "cell_type": "markdown",
   "metadata": {},
   "source": [
    "Mean Shift underestimates the number of clusters, making it not very useful for this data. \n",
    "### Spectral Clustering"
   ]
  },
  {
   "cell_type": "code",
   "execution_count": null,
   "metadata": {
    "scrolled": true
   },
   "outputs": [],
   "source": [
    "# We know we're looking for 2 clusters.\n",
    "n_clusters = 2\n",
    "\n",
    "# Declare and fit the model.\n",
    "sc = SpectralClustering(n_clusters=n_clusters)\n",
    "t0 = time()\n",
    "sc.fit(X_train_lsa)\n",
    "print(\"done in %0.3fs\" % (time() - t0))\n",
    "\n",
    "# Predicted clusters.\n",
    "sc_predict = sc.fit_predict(X_train_lsa)\n",
    "\n",
    "# Error\n",
    "y_error_sc = (sc_predict*2)-Y_train\n",
    "\n",
    "# Error Color\n",
    "LABEL_COLOR_MAP = {-1: '#FF752E',\n",
    "                   0:  '#ad00c8',\n",
    "                   1: '#4ae500',  # \"#d63900\"',\n",
    "                   2: '#000dbf'\n",
    "                   }\n",
    "label_color = [LABEL_COLOR_MAP[i] for i in mini_error]\n",
    "label_convert = {-1: 'FN',\n",
    "                 0: 'TN',\n",
    "                 1:'TP',\n",
    "                 2: 'FP'\n",
    "                 } \n",
    "# Plot results.\n",
    "plt.figure(figsize=(7, 4))\n",
    "plt.scatter(X_train_lsa[:, 0], X_train_lsa[:, 1],\n",
    "            marker='.', c=label_color)\n",
    "\n",
    "# Plot Error Legend\n",
    "markers = [\n",
    "    plt.Line2D([0, 0], [0, 0], color=color,\n",
    "               marker='o', linestyle=''\n",
    "               ) for color in LABEL_COLOR_MAP.values()]\n",
    "plt.legend(markers, label_convert.values(), numpoints=1)\n",
    "plt.savefig(\"Spectral Cluster.png\", dpi =300)\n",
    "plt.show()\n",
    "\n",
    "# Check the Spectral Cluster model against the data.\n",
    "cm = pd.crosstab(Y_train, sc_predict, rownames=['True'], \n",
    "                 colnames=['Predicted'], margins=True)\n",
    "print(\"Confusion Matrix:  \\n\", cm)\n",
    "print(\"\\n                    Classification Report \\n\",\n",
    "      classification_report(Y_train, sc_predict))"
   ]
  },
  {
   "cell_type": "markdown",
   "metadata": {},
   "source": [
    "It would seem that unsupervised feature creation and cluster classification is not good enough for this data. To further explore the data I'll use the t-SNE algorithm. \n",
    "### t-SNE"
   ]
  },
  {
   "cell_type": "code",
   "execution_count": null,
   "metadata": {
    "scrolled": true
   },
   "outputs": [],
   "source": [
    "tsne = TSNE(n_components=3, verbose=1, perplexity=40, n_iter=300)\n",
    "t0 = time()\n",
    "tsne_results_train = tsne.fit_transform(X_train_lsa)\n",
    "print(\"done in %0.3fs\" % (time() - t0))"
   ]
  },
  {
   "cell_type": "code",
   "execution_count": null,
   "metadata": {},
   "outputs": [],
   "source": [
    "from mpl_toolkits import mplot3d\n",
    "\n",
    "fig = plt.figure(figsize=(17.5, 11))\n",
    "ax = fig.add_subplot(111, projection='3d')\n",
    "\n",
    "TSNE_color_dict = {0:  '#ad00c8',\n",
    "                   1: '#4ae500' \n",
    "                   #2: '#000dbf'\n",
    "                   }\n",
    "TSNE_color = [TSNE_color_dict[i] for i in Y_train]\n",
    "flatui = [\"#4ae500\", \"#d63900\"]\n",
    "\n",
    "# Data for three-dimensional scattered points\n",
    "zdata = tsne_results_train[:, 0]\n",
    "xdata = tsne_results_train[:, 1]\n",
    "ydata = tsne_results_train[:, 2]\n",
    "ax.scatter3D(xdata, ydata, zdata, c=TSNE_color)\n",
    "\n",
    "# rotate the axes and plot\n",
    "ax.view_init(elev = -15, azim = 45)#, azim=0)\n",
    "plt.title('t-SNE Clustering')\n",
    "plt.tight_layout()    \n",
    "plt.savefig(\"t_SNE.png\", dpi =300)\n",
    "plt.show()"
   ]
  },
  {
   "cell_type": "markdown",
   "metadata": {},
   "source": [
    "Now comparing the TSNE clustering between the training data and test data."
   ]
  },
  {
   "cell_type": "code",
   "execution_count": null,
   "metadata": {},
   "outputs": [],
   "source": [
    "tsne = TSNE(n_components=3, verbose=1, perplexity=40, n_iter=300)\n",
    "t0 = time()\n",
    "tsne_results_test = tsne.fit_transform(X_test_lsa)\n",
    "print(\"done in %0.3fs\" % (time() - t0))"
   ]
  },
  {
   "cell_type": "code",
   "execution_count": null,
   "metadata": {},
   "outputs": [],
   "source": [
    "from mpl_toolkits import mplot3d\n",
    "\n",
    "fig = plt.figure(figsize=(17.5, 11))\n",
    "ax = fig.add_subplot(111, projection='3d')\n",
    "\n",
    "TSNE_color_dict = {0:  '#ad00c8',\n",
    "                   1: '#4ae500' \n",
    "                   #2: '#000dbf'\n",
    "                   }\n",
    "TSNE_color = [TSNE_color_dict[i] for i in Y_test]\n",
    "flatui = [\"#4ae500\", \"#d63900\"]\n",
    "\n",
    "# Data for three-dimensional scattered points\n",
    "zdata = tsne_results_test[:, 0]\n",
    "xdata = tsne_results_test[:, 1]\n",
    "ydata = tsne_results_test[:, 2]\n",
    "ax.scatter3D(xdata, ydata, zdata, c=TSNE_color)\n",
    "\n",
    "# rotate the axes and plot\n",
    "ax.view_init(elev = -15, azim = 45)#, azim=0)\n",
    "plt.title('t-SNE Clustering')\n",
    "plt.tight_layout()    \n",
    "plt.savefig(\"t_SNE_test.png\", dpi =300)   \n",
    "plt.show()"
   ]
  },
  {
   "cell_type": "markdown",
   "metadata": {},
   "source": [
    "TSNE converts similarities between data points to joint probabilities and tries to minimize the Kullback-Leibler divergence between the joint probabilities of the low-dimensional embedding and the high-dimensional data. We can color the data by the true outcome variable and see how similar reviews that led to a recommendation are to those that did not. \n",
    "\n",
    "Comparing the test data clustering to the training data we see less defined clustering."
   ]
  },
  {
   "cell_type": "markdown",
   "metadata": {},
   "source": [
    "It would seem we may benefit from further preprocessing the data. \n",
    "\n",
    "We can instead investigate the key words using NLP techniques such as tokenization and lemmatization. We may find that while the entire review doesn't cluster around our target, the key words may."
   ]
  },
  {
   "cell_type": "markdown",
   "metadata": {},
   "source": [
    "## NLP Reviews Into Weighted Word Counts"
   ]
  },
  {
   "cell_type": "markdown",
   "metadata": {},
   "source": [
    "### Tokenization and Lemmatization\n",
    "Given a character sequence and a defined document unit, tokenization is the task of chopping it up into pieces. A token is an instance of a sequence of characters in some particular document that are grouped together as a useful semantic unit for processing.\n",
    "\n",
    "The goal of both stemming and lemmatization is to reduce inflectional forms and sometimes derivationally related forms of a word to a common base form.\n",
    "\n",
    "My hope is that by processing down the text to these unique tokens and lemmas we'll be able to accurately build predictive models."
   ]
  },
  {
   "cell_type": "code",
   "execution_count": null,
   "metadata": {},
   "outputs": [],
   "source": [
    "# Instantiate the Word tokenizer & Word lemmatizer\n",
    "w_tokenizer = nltk.tokenize.WhitespaceTokenizer()\n",
    "lemmatizer = nltk.stem.WordNetLemmatizer()\n",
    "\n",
    "# Define a word lemmatizer function\n",
    "def lemmatize_text(text):\n",
    "    return [lemmatizer.lemmatize(w) for w in w_tokenizer.tokenize(text)]\n",
    "\n",
    "\n",
    "# Apply the word lemmatizer function to data\n",
    "df['Filtered Review Text Lemmas'] = df['Filtered Review Text'].apply(\n",
    "    lemmatize_text)\n",
    "df.head()"
   ]
  },
  {
   "cell_type": "code",
   "execution_count": null,
   "metadata": {},
   "outputs": [],
   "source": [
    "# Getting a count of lemmas from the documents\n",
    "# Ngram_range is set to 1,2 - meaning either single or two word \n",
    "# combinations will be extracted\n",
    "cvec = CountVectorizer(min_df=.005, max_df=.9, ngram_range=(1, 2),\n",
    "                       tokenizer=lambda doc: doc, lowercase=False)\n",
    "cvec.fit(df['Filtered Review Text Lemmas'])"
   ]
  },
  {
   "cell_type": "code",
   "execution_count": null,
   "metadata": {},
   "outputs": [],
   "source": [
    "# Getting the total n-gram count\n",
    "len(cvec.vocabulary_)"
   ]
  },
  {
   "cell_type": "markdown",
   "metadata": {},
   "source": [
    "### Bag of Words\n",
    "\n",
    "I want to further reduce my reviews down to a simpler bag of words representation of the text. We'll use these to build features for training the classification models."
   ]
  },
  {
   "cell_type": "code",
   "execution_count": null,
   "metadata": {},
   "outputs": [],
   "source": [
    "# Creating the bag-of-words representation\n",
    "cvec_counts = cvec.transform(df['Filtered Review Text Lemmas'])\n",
    "print('sparse matrix shape:', cvec_counts.shape)\n",
    "print('nonzero count:', cvec_counts.nnz)\n",
    "print('sparsity: %.2f%%' % (\n",
    "    100.0 * cvec_counts.nnz / (cvec_counts.shape[0] * cvec_counts.shape[1])))"
   ]
  },
  {
   "cell_type": "code",
   "execution_count": null,
   "metadata": {},
   "outputs": [],
   "source": [
    "# Instantiating the TfidfTransformer\n",
    "transformer = TfidfTransformer()\n",
    "\n",
    "# Fitting and transforming n-grams\n",
    "transformed_weights = transformer.fit_transform(cvec_counts)\n",
    "transformed_weights"
   ]
  },
  {
   "cell_type": "code",
   "execution_count": null,
   "metadata": {},
   "outputs": [],
   "source": [
    "# Getting a list of all n-grams\n",
    "transformed_weights_array = transformed_weights.toarray()\n",
    "vocab = cvec.get_feature_names()\n",
    "\n",
    "# Putting weighted n-grams into a DataFrame and \n",
    "# computing some summary statistics\n",
    "weighted_ngrams = pd.DataFrame(transformed_weights_array, columns=vocab)\n",
    "weighted_ngrams['Keyword'] = weighted_ngrams.idxmax(axis=1)\n",
    "weighted_ngrams['Max'] = weighted_ngrams.max(axis=1)\n",
    "weighted_ngrams['Sum'] = weighted_ngrams.drop('Max', axis=1).sum(axis=1)\n",
    "weighted_ngrams.head(10)"
   ]
  },
  {
   "cell_type": "code",
   "execution_count": null,
   "metadata": {},
   "outputs": [],
   "source": [
    "# Joining my dataframes in preperation for machine learning.\n",
    "df2 = pd.merge(df, weighted_ngrams, left_index=True, right_index=True)\n",
    "df2.head()"
   ]
  },
  {
   "cell_type": "markdown",
   "metadata": {},
   "source": [
    "### Comparing Word Frequency to Weight"
   ]
  },
  {
   "cell_type": "code",
   "execution_count": null,
   "metadata": {
    "cell_style": "split"
   },
   "outputs": [],
   "source": [
    "# Getting a view of the top 20 occurring words\n",
    "occ = np.asarray(cvec_counts.sum(axis=0)).ravel().tolist()\n",
    "counts_df = pd.DataFrame({'Term': cvec.get_feature_names(),\n",
    "                          'Occurrences': occ})\n",
    "counts_df.sort_values(by='Occurrences', ascending=False).head(25)"
   ]
  },
  {
   "cell_type": "code",
   "execution_count": null,
   "metadata": {
    "cell_style": "split"
   },
   "outputs": [],
   "source": [
    "# Getting a view of the top 20 weights\n",
    "weights = np.asarray(transformed_weights.mean(axis=0)).ravel().tolist()\n",
    "weights_df = pd.DataFrame({'Term': cvec.get_feature_names(),\n",
    "                           'Weight': weights})\n",
    "weights_df.sort_values(by='Weight', ascending=False).head(25)"
   ]
  },
  {
   "cell_type": "markdown",
   "metadata": {},
   "source": [
    "We can note that the occurrence count deviates from the term weight."
   ]
  },
  {
   "cell_type": "markdown",
   "metadata": {},
   "source": [
    "### WordCloud Visualization "
   ]
  },
  {
   "cell_type": "code",
   "execution_count": null,
   "metadata": {},
   "outputs": [],
   "source": [
    "# read the mask image taken from\n",
    "mask = np.array(Image.open(\"Dress.png\"))\n",
    "\n",
    "\n",
    "def wc(data, bgcolor, title):\n",
    "    plt.figure(figsize=(100, 100))\n",
    "    wc = WordCloud(background_color=bgcolor, max_words=1000,\n",
    "                   mask=mask, max_font_size=50)\n",
    "    wc.generate(' '.join(data))\n",
    "    plt.imshow(wc)\n",
    "    plt.axis('off')\n",
    "\n",
    "\n",
    "wordlist = counts_df['Term']\n",
    "wordlist2 = weights_df['Term']"
   ]
  },
  {
   "cell_type": "code",
   "execution_count": null,
   "metadata": {
    "cell_style": "split",
    "scrolled": false
   },
   "outputs": [],
   "source": [
    "wc(wordlist, 'white', 'Most Used Words',)\n",
    "plt.savefig(\"WC_Most_Used.png\", dpi =300)"
   ]
  },
  {
   "cell_type": "code",
   "execution_count": null,
   "metadata": {
    "cell_style": "split",
    "scrolled": false
   },
   "outputs": [],
   "source": [
    "wc(wordlist2, 'white', 'Most Used Words',)\n",
    "plt.savefig(\"WC_weights.png\", dpi =300)"
   ]
  },
  {
   "cell_type": "markdown",
   "metadata": {},
   "source": [
    "This gives a fun visual representation of the previous table. And since dressed were the biggest contributor to the data, it only felt appropriate to use a dress as our WordCloud stencil!"
   ]
  },
  {
   "cell_type": "markdown",
   "metadata": {},
   "source": [
    "## Machine Learning\n",
    "We'll perform Supervised Machine Learning to determine if features we created with Bag of Words are predictive of Recommendations. "
   ]
  },
  {
   "cell_type": "markdown",
   "metadata": {},
   "source": [
    "### Establishing training data"
   ]
  },
  {
   "cell_type": "code",
   "execution_count": null,
   "metadata": {},
   "outputs": [],
   "source": [
    "df2.head()"
   ]
  },
  {
   "cell_type": "code",
   "execution_count": null,
   "metadata": {},
   "outputs": [],
   "source": [
    "# Drop all columns not part of the text matrix and store as a copy of df2.\n",
    "df2 = df2.drop(['Age', 'Title', 'Rating', 'Positive Feedback Count',\n",
    "                     'Division Name', 'Department Name', 'Class Name', \n",
    "                     'Word Count', 'Character Count', 'Clothing ID', \n",
    "                     'Review Text', 'Keyword', 'Max', 'Sum',\n",
    "                      'Filtered Review Text', 'Filtered Review Text Lemmas'\n",
    "               ], axis=1)\n",
    "                      \n",
    "\n",
    "# Create X & y variables for Machine Learning\n",
    "X_ml = df2.drop('Recommended IND', axis=1)\n",
    "y_ml = df2['Recommended IND']\n",
    "\n",
    "# Create a train-test split of these modeling variables\n",
    "X_train_ml, X_test_ml, y_train_ml, y_test_ml = train_test_split(\n",
    "    X_ml, y_ml, test_size=0.25, random_state=42)"
   ]
  },
  {
   "cell_type": "code",
   "execution_count": null,
   "metadata": {},
   "outputs": [],
   "source": [
    "# Sanity Check\n",
    "df2.head()"
   ]
  },
  {
   "cell_type": "markdown",
   "metadata": {},
   "source": [
    "### Automating model testing"
   ]
  },
  {
   "cell_type": "code",
   "execution_count": null,
   "metadata": {},
   "outputs": [],
   "source": [
    "# Defining a function to fit and predict ML algorithms\n",
    "def auto_model(mod, model_name, X_train_ml, X_test_ml, y_train_ml, y_test_ml):\n",
    "    mod.fit(X_train_ml, y_train_ml)\n",
    "    print(model_name)\n",
    "    acc = cross_val_score(mod, X_train_ml, y_train_ml,\n",
    "                          scoring=\"accuracy\", cv=5)\n",
    "    predictions = cross_val_predict(mod, X_train_ml, y_train_ml, cv=5)\n",
    "    print(\"Accuracy:\", round(acc.mean(), 3))\n",
    "    cm = pd.crosstab(y_train_ml, predictions, rownames=['True'], \n",
    "                 colnames=['Predicted'], margins=True)\n",
    "    print(\"\\nConfusion Matrix:  \\n\", cm)\n",
    "    print(\"\\n                    Classification Report \\n\",\n",
    "          classification_report(y_train_ml, predictions))"
   ]
  },
  {
   "cell_type": "markdown",
   "metadata": {},
   "source": [
    "### Naive Bayes Classification"
   ]
  },
  {
   "cell_type": "code",
   "execution_count": null,
   "metadata": {},
   "outputs": [],
   "source": [
    "# Gaussian Naive Bayes\n",
    "gnb = GaussianNB()\n",
    "auto_model(gnb, \"Gaussian Naive Bayes\",\n",
    "           X_train_ml, X_test_ml, y_train_ml, y_test_ml)"
   ]
  },
  {
   "cell_type": "markdown",
   "metadata": {},
   "source": [
    "Not the greatest model. Low Accuracy and pretty undesirable f1-scores.\n",
    "### Random Forest Classification"
   ]
  },
  {
   "cell_type": "code",
   "execution_count": null,
   "metadata": {},
   "outputs": [],
   "source": [
    "# Random Forest Classifier\n",
    "rfc = RandomForestClassifier(n_estimators=100, n_jobs=-1)\n",
    "auto_model(rfc, \"Random Forest Classifier\",\n",
    "           X_train_ml, X_test_ml, y_train_ml, y_test_ml)"
   ]
  },
  {
   "cell_type": "markdown",
   "metadata": {},
   "source": [
    "Still not the greatest model. Accuracy is much improved but we can see there is something going on with it's ability to predict \"Not Recommended\" - the f1 score is 0.01! \n",
    "\n",
    "Out of curiosity let's see how the model perform trained on the t-SNE output."
   ]
  },
  {
   "cell_type": "code",
   "execution_count": null,
   "metadata": {},
   "outputs": [],
   "source": [
    "# Random Forest Classifier\n",
    "rfc = RandomForestClassifier(n_estimators=100, n_jobs=-1)\n",
    "auto_model(rfc, \"Random Forest Classifier\",\n",
    "           tsne_results_train, tsne_results_test, Y_train, Y_test)"
   ]
  },
  {
   "cell_type": "markdown",
   "metadata": {},
   "source": [
    "Interesting! It would appear the dimension reduction in t-SNE improves model performance a decent amount.\n",
    "### Logistic Regression"
   ]
  },
  {
   "cell_type": "code",
   "execution_count": null,
   "metadata": {},
   "outputs": [],
   "source": [
    "# Logistic Regression\n",
    "log = LogisticRegression(solver='lbfgs')\n",
    "auto_model(log, \"Logistic Regression\",\n",
    "           X_train_ml, X_test_ml, y_train_ml, y_test_ml)"
   ]
  },
  {
   "cell_type": "markdown",
   "metadata": {},
   "source": [
    "Hmmm...the model performs similarly to the Random Forest Classifier. Whatever the issue is, it impacts both models. \n",
    "### Linear SVC"
   ]
  },
  {
   "cell_type": "code",
   "execution_count": null,
   "metadata": {},
   "outputs": [],
   "source": [
    "# Linear SVC\n",
    "svc = LinearSVC()\n",
    "auto_model(svc, \"Linear SVC\",\n",
    "           X_train_ml, X_test_ml, y_train_ml, y_test_ml)"
   ]
  },
  {
   "cell_type": "markdown",
   "metadata": {},
   "source": [
    "### Model Comparison \n",
    "\n",
    "Ok now we're 4/4 for models having inability to predict \"Not Recommended\". I have some intuition as to the cause.\n",
    "\n",
    "\n",
    "Recall this visualization for our target variable:"
   ]
  },
  {
   "cell_type": "code",
   "execution_count": null,
   "metadata": {},
   "outputs": [],
   "source": [
    "# Distribution of Rating, Recommended IND, and Label:\n",
    "cat_dtypes = [\"Rating\", \"Recommended IND\"]\n",
    "increment = 0\n",
    "f, axes = plt.subplots(1, len(cat_dtypes), figsize=(9, 4), sharex=False)\n",
    "\n",
    "for i in range(len(cat_dtypes)):\n",
    "    sns.countplot(x=cat_dtypes[increment],\n",
    "                  data=df,\n",
    "                  order=df[cat_dtypes[increment\n",
    "                                      ]].value_counts().index, ax=axes[i])\n",
    "    axes[i].set_title(\n",
    "        \"Frequency Distribution for\\n{}\".format(cat_dtypes[increment]))\n",
    "    axes[i].set_ylabel(\"Occurrence\")\n",
    "    axes[i].set_xlabel(\"{}\".format(cat_dtypes[increment]))\n",
    "    increment += 1\n",
    "axes[1].set_ylabel(\"\")\n",
    "plt.tight_layout()\n",
    "plt.show()"
   ]
  },
  {
   "cell_type": "markdown",
   "metadata": {},
   "source": [
    "We have a stark class imbalance of the target variable. As we noted in the EDA, the data is very heavily skewed towards recommendations. For the retailer this isn't a bad problem to have, customers seem to like the products more often than not - and recommend them more often than not. \n",
    "\n",
    "For training machine learning models this is quite problematic. Predictive models perform better when the data is Guassian - which it is not. This would explain why Gaussian Naive Bayes performed the worst of the bunch."
   ]
  },
  {
   "cell_type": "markdown",
   "metadata": {},
   "source": [
    "### Addressing class imbalance\n",
    "\n",
    "You may recall I did not want to equalize the data based on the target variable earlier on as that would have hindered the previous analyses by artificially reducing the corpus. However, that decision has come back to cause some trouble. \n",
    "\n",
    "I could normalize the distribution and rerun everything, or I could either downsample or upsample the data from where I'm at. Rather than downsample the majority class I'm going to upsample the minority class. To do this I'll use the Synthetic Minority Oversampling Technique (SMOTE) from the imbalanced-learn library."
   ]
  },
  {
   "cell_type": "code",
   "execution_count": null,
   "metadata": {},
   "outputs": [],
   "source": [
    "# Import the hopeful solution to our problems\n",
    "from imblearn.over_sampling import SMOTE\n",
    "smote = SMOTE()"
   ]
  },
  {
   "cell_type": "markdown",
   "metadata": {},
   "source": [
    "### Retesting the models with balanced classes"
   ]
  },
  {
   "cell_type": "code",
   "execution_count": null,
   "metadata": {},
   "outputs": [],
   "source": [
    "# Setting up new variables for ML\n",
    "X_sm, y_sm = smote.fit_sample(X_ml, y_ml)\n",
    "\n",
    "X_train_sm, X_test_sm, y_train_sm, y_test_sm = train_test_split(\n",
    "    X_sm, y_sm, test_size=0.3, random_state=100)"
   ]
  },
  {
   "cell_type": "code",
   "execution_count": null,
   "metadata": {},
   "outputs": [],
   "source": [
    "#t-SNE on new variable\n",
    "tsne = TSNE(n_components=3, verbose=1, perplexity=40, n_iter=300)\n",
    "t0 = time()\n",
    "tsne_results_train_sm = tsne.fit_transform(X_train_sm)\n",
    "print(\"done in %0.3fs\" % (time() - t0))"
   ]
  },
  {
   "cell_type": "code",
   "execution_count": null,
   "metadata": {},
   "outputs": [],
   "source": [
    "#t-SNE on new variable\n",
    "tsne = TSNE(n_components=3, verbose=1, perplexity=40, n_iter=300)\n",
    "t0 = time()\n",
    "tsne_results_test_sm = tsne.fit_transform(X_test_sm)\n",
    "print(\"done in %0.3fs\" % (time() - t0))"
   ]
  },
  {
   "cell_type": "code",
   "execution_count": null,
   "metadata": {},
   "outputs": [],
   "source": [
    "# Defining a new function with revised inputs for the new SMOTE variables\n",
    "\n",
    "\n",
    "def auto_model_sm(mod, model_name, x_train_sm,\n",
    "                  y_train_sm, x_test_sm, y_test_sm):\n",
    "    mod.fit(x_train_sm, y_train_sm)\n",
    "    print(model_name)\n",
    "    acc = cross_val_score(mod, X_train_sm, y_train_sm,\n",
    "                          scoring=\"accuracy\", cv=5)\n",
    "    predictions = cross_val_predict(mod, X_train_sm, y_train_sm, cv=5)\n",
    "    print(\"Accuracy:\", round(acc.mean(), 3))\n",
    "    cm = pd.crosstab(y_train_sm, predictions, rownames=['True'], \n",
    "                 colnames=['Predicted'], margins=True)\n",
    "    print(\"\\nConfusion Matrix:  \\n\", cm)\n",
    "    print(\"\\n                    Classification Report \\n\",\n",
    "          classification_report(y_train_sm, predictions))"
   ]
  },
  {
   "cell_type": "code",
   "execution_count": null,
   "metadata": {},
   "outputs": [],
   "source": [
    "# Gaussian Naive Bayes\n",
    "gnb = GaussianNB()\n",
    "auto_model_sm(gnb, \"Gaussian Naive Bayes\", X_train_sm,\n",
    "              y_train_sm, X_test_sm, y_test_sm)"
   ]
  },
  {
   "cell_type": "markdown",
   "metadata": {},
   "source": [
    "Still not the best, but we at least have comparable f1 scores. This means the model is equally able to identify whether or not the customer Recommended the product."
   ]
  },
  {
   "cell_type": "code",
   "execution_count": null,
   "metadata": {},
   "outputs": [],
   "source": [
    "# Random Forest Classifier\n",
    "rfc = RandomForestClassifier(n_estimators=100, n_jobs=-100)\n",
    "auto_model_sm(rfc, \"Random Forest Classifier\", X_train_sm,\n",
    "              y_train_sm, X_test_sm, y_test_sm)"
   ]
  },
  {
   "cell_type": "code",
   "execution_count": null,
   "metadata": {},
   "outputs": [],
   "source": [
    "# Random Forest Classifier\n",
    "rfc = RandomForestClassifier(n_estimators=100, n_jobs=-1)\n",
    "auto_model(rfc, \"Random Forest Classifier\",\n",
    "           tsne_results_train_sm, tsne_results_test_sm, y_train_sm, y_test_sm)"
   ]
  },
  {
   "cell_type": "markdown",
   "metadata": {},
   "source": [
    "Now we're cooking with gas! We've got a model with a mean CV of 89% and a pretty decent f1-score for both outcomes.\n",
    "\n",
    "Interesting to note that the random forest classifier trained on the oversampled t-SNE data performed worse than the previous one. "
   ]
  },
  {
   "cell_type": "code",
   "execution_count": null,
   "metadata": {},
   "outputs": [],
   "source": [
    "# Logistic Regression\n",
    "log = LogisticRegression(solver='lbfgs')\n",
    "auto_model_sm(log, \"Logistic Regression\", X_train_sm,\n",
    "              y_train_sm, X_test_sm, y_test_sm)"
   ]
  },
  {
   "cell_type": "code",
   "execution_count": null,
   "metadata": {
    "scrolled": false
   },
   "outputs": [],
   "source": [
    "# Linear SVC\n",
    "svc = LinearSVC()\n",
    "auto_model_sm(svc, \"Linear SVC\", X_train_sm, y_train_sm, X_test_sm, y_test_sm)"
   ]
  },
  {
   "cell_type": "markdown",
   "metadata": {},
   "source": [
    "Random Forest Classification is clearly the best model. Let's see if tuning the hyperparameters can eek out additional performance.\n",
    "\n",
    "### Tuning the Best Model: Random Forest"
   ]
  },
  {
   "cell_type": "code",
   "execution_count": null,
   "metadata": {},
   "outputs": [],
   "source": [
    "# Create the parameter grid based on the results of random search\n",
    "param_grid = {\n",
    "    'bootstrap': [True, False],\n",
    "    'max_depth': [2, 10, 100, 200],\n",
    "    'min_samples_leaf': [2, 5, 10, 50],\n",
    "    'min_samples_split': [2, 5, 10, 50],\n",
    "    'n_estimators': [100, 400, 600, 1000]\n",
    "}\n",
    "\n",
    "rfcfit = rfc.fit(X_train_sm, y_train_sm)\n",
    "\n",
    "# Instantiate the grid search model\n",
    "grid_search = GridSearchCV(estimator=rfcfit, param_grid=param_grid,\n",
    "                           cv=3, n_jobs=-1, verbose=2)\n",
    "grid_search.fit(X_train_sm, y_train_sm)\n",
    "\n",
    "# Getting the best hyperparameters\n",
    "grid_search.best_params_"
   ]
  },
  {
   "cell_type": "code",
   "execution_count": null,
   "metadata": {},
   "outputs": [],
   "source": [
    "# Random Forest Classifier\n",
    "rfc_tune1 = RandomForestClassifier(bootstrap=False, max_depth=200, \n",
    "                             min_samples_leaf=2, min_samples_split=2,\n",
    "                             n_estimators=400)\n",
    "auto_model_sm(rfc_tune1, \"Random Forest Classifier\", X_train_sm,\n",
    "              y_train_sm, X_test_sm, y_test_sm)"
   ]
  },
  {
   "cell_type": "code",
   "execution_count": null,
   "metadata": {},
   "outputs": [],
   "source": [
    "# Create the parameter grid based on the results of random search\n",
    "param_grid = {\n",
    "    'bootstrap': [False],\n",
    "    'max_depth': [200, 300, 500, 700],\n",
    "    'min_samples_leaf': [2, 3],\n",
    "    'min_samples_split': [2, 3],\n",
    "    'n_estimators': [100, 400, 600, 1000]\n",
    "}\n",
    "\n",
    "rfc_tune1_fit = rfc_tune1.fit(X_train_sm, y_train_sm)\n",
    "\n",
    "# Instantiate the grid search model\n",
    "grid_search = GridSearchCV(estimator=rfc_tune1_fit, param_grid=param_grid,\n",
    "                           cv=3, n_jobs=-1, verbose=2)\n",
    "grid_search.fit(X_train_sm, y_train_sm)\n",
    "\n",
    "# Getting the best hyperparameters\n",
    "grid_search.best_params_"
   ]
  },
  {
   "cell_type": "code",
   "execution_count": null,
   "metadata": {},
   "outputs": [],
   "source": [
    "# Random Forest Classifier\n",
    "rfc_final = RandomForestClassifier(bootstrap=False, max_depth=300, \n",
    "                             min_samples_leaf=2, min_samples_split=3,\n",
    "                             n_estimators=400)\n",
    "auto_model_sm(rfc_final, \"Random Forest Classifier\", X_train_sm,\n",
    "              y_train_sm, X_test_sm, y_test_sm)"
   ]
  },
  {
   "cell_type": "markdown",
   "metadata": {},
   "source": [
    "These hyperparameters impair speed accuracy, but the tuned model should be slightly better at predicting recommendations. Therefore, we need to determine whether we want a faster but slightly less (-1%) precise model or is the 1% improvement worth the cost of speed? For the remainder of the project we'll take speed. "
   ]
  },
  {
   "cell_type": "code",
   "execution_count": null,
   "metadata": {},
   "outputs": [],
   "source": [
    "# Creating a plot for feature importance\n",
    "def importance_plotting(data,x,y,palette,title):\n",
    "    sns.set(style=\"whitegrid\")\n",
    "    ft = sns.PairGrid(data, y_vars=y, x_vars=x, height=6,\n",
    "                      aspect=2)\n",
    "    ft.map(sns.stripplot,orient='h', \n",
    "           palette=palette, edgecolor=\"black\",size=15)\n",
    "    for ax, title in zip(ft.axes.flat, titles):\n",
    "        \n",
    "    # Set a different title for each axes\n",
    "        ax.set(title=title)\n",
    "        \n",
    "    # Make the grid horizontal instead of vertical\n",
    "        ax.xaxis.grid(False)\n",
    "        ax.yaxis.grid(True)\n",
    "   # plt.rcParams.update({'font.size': 16})\n",
    "    plt.tight_layout()\n",
    "    plt.show()"
   ]
  },
  {
   "cell_type": "code",
   "execution_count": null,
   "metadata": {},
   "outputs": [],
   "source": [
    "# Compile arrays of columns (words) and feature importances\n",
    "feat_import = {'Words':df2.drop(\n",
    "    'Recommended IND',axis=1).columns.tolist(),\n",
    "               'Importance':rfc.feature_importances_}\n",
    "\n",
    "# Bung these into a dataframe, rank highest to lowest then slice top 20\n",
    "Importance = pd.DataFrame(feat_import,index=None).sort_values(\n",
    "    'Importance',ascending=False).head(25)\n",
    "\n",
    "# Plot the graph!\n",
    "titles = [\"Top 25 most important words in predicting product recommendation\\n\"]\n",
    "\n",
    "importance_plotting(Importance,'Importance','Words','Reds_r',titles)"
   ]
  },
  {
   "cell_type": "markdown",
   "metadata": {},
   "source": [
    "We can glean that things such as fit, size, and color are big contributors to whether a reviewer recommends the product. This can be used by the retailer to make data driven choices about what future products to offer.\n",
    "\n",
    "## Precision-Recall\n",
    "The precision-recall curve shows the tradeoff between precision and recall for different thresholds. A high area under the curve represents both high recall and high precision, where high precision relates to a low false positive rate, and high recall relates to a low false negative rate."
   ]
  },
  {
   "cell_type": "code",
   "execution_count": null,
   "metadata": {},
   "outputs": [],
   "source": [
    "# Getting prediction probabilities\n",
    "y_scores = rfc.predict_proba(X_test_ml)\n",
    "y_scores = y_scores[:,1]\n",
    "\n",
    "precision, recall, threshold = precision_recall_curve(y_test_ml, y_scores)\n",
    "\n",
    "# Defining a new function to plot the precision-recall curve\n",
    "def plot_precision_and_recall(precision, recall, threshold):\n",
    "    plt.plot(threshold, precision[:-1], \"r-\", label=\"Precision\", linewidth=3)\n",
    "    plt.plot(threshold, recall[:-1], \"b\", label=\"Recall\", linewidth=3)\n",
    "    plt.xlabel(\"Threshold\", fontsize=19)\n",
    "    plt.legend(loc=\"lower left\", fontsize=19)\n",
    "\n",
    "plt.figure(figsize=(10, 7))\n",
    "plot_precision_and_recall(precision, recall, threshold)\n",
    "plt.tight_layout()\n",
    "plt.show()"
   ]
  },
  {
   "cell_type": "markdown",
   "metadata": {},
   "source": [
    "The ideal threshold is around.58. Beyond that any gain in precision results in a steep decline in recall.\n",
    "\n",
    "## AUC-ROC Curve\n",
    "AUC - ROC curve is a performance measurement for classification problem at various thresholds settings. ROC is a probability curve and AUC represents degree or measure of separability. It tells how much model is capable of distinguishing between classes. "
   ]
  },
  {
   "cell_type": "code",
   "execution_count": null,
   "metadata": {},
   "outputs": [],
   "source": [
    "# Compute the true positive and false positive rate\n",
    "false_positive_rate, true_positive_rate, thresholds = roc_curve(\n",
    "    y_test_ml, y_scores)\n",
    "\n",
    "# Plotting the true positive and false positive rate\n",
    "def plot_roc_curve(false_positive_rate, true_positive_rate, label=None):\n",
    "    roc_auc = metrics.auc(false_positive_rate, true_positive_rate)\n",
    "    plt.plot(false_positive_rate, true_positive_rate, 'b',\n",
    "             linewidth=3, label='ROC curve (area = {0:.2f})'.format(roc_auc))\n",
    "    plt.plot([0, 1], [0, 1], 'ro--', label='Naive Classifier',\n",
    "             linewidth=3)\n",
    "    plt.xlabel('False Positive Rate (FPR)', fontsize=16)\n",
    "    plt.ylabel('True Positive Rate (TPR)', fontsize=16)\n",
    "    plt.legend(loc=\"lower right\", fontsize=16)\n",
    "\n",
    "plt.figure(figsize=(10, 8))\n",
    "plot_roc_curve(false_positive_rate, true_positive_rate)\n",
    "plt.title('Receiver Operating Characteristic Curve', size = 20)\n",
    "plt.tight_layout()\n",
    "plt.show()"
   ]
  },
  {
   "cell_type": "markdown",
   "metadata": {},
   "source": [
    "## Conclusion\n"
   ]
  },
  {
   "cell_type": "markdown",
   "metadata": {},
   "source": [
    "In this project I explored customer reviews from an online clothing retailer and the relationship they had with whether or not the product was recommended. I utilized tfidf vectorization paired with latent semantic analysis to reduce the dimensionality of my data to perform cluster analysis with a variety of clustering algorithms. \n",
    "\n",
    "I further processed my text corpus down to tokens and lemmas, again vectorizing the data and using the output to train machine learning models. I trained a Random Forest Classification model that had an accuracy of nearly 90%, ruled out the need to tune the hyperparameters and verified the performance of the model with a Precision/Recall curve and receiver operator character curve.\n",
    "\n",
    "Given the AUC of 0.99 we can feel confident that the model has a high likelihood of assigning a higher predicted probability to the recommended outcome. Given the imbalance in our data, this is the ideal measure of model performance. \n"
   ]
  },
  {
   "cell_type": "code",
   "execution_count": null,
   "metadata": {},
   "outputs": [],
   "source": []
  }
 ],
 "metadata": {
  "kernelspec": {
   "display_name": "Python 3",
   "language": "python",
   "name": "python3"
  },
  "language_info": {
   "codemirror_mode": {
    "name": "ipython",
    "version": 3
   },
   "file_extension": ".py",
   "mimetype": "text/x-python",
   "name": "python",
   "nbconvert_exporter": "python",
   "pygments_lexer": "ipython3",
   "version": "3.7.1"
  },
  "toc": {
   "base_numbering": 1,
   "nav_menu": {},
   "number_sections": true,
   "sideBar": true,
   "skip_h1_title": false,
   "title_cell": "Table of Contents",
   "title_sidebar": "Contents",
   "toc_cell": false,
   "toc_position": {
    "height": "calc(100% - 180px)",
    "left": "10px",
    "top": "150px",
    "width": "165px"
   },
   "toc_section_display": true,
   "toc_window_display": true
  }
 },
 "nbformat": 4,
 "nbformat_minor": 2
}
